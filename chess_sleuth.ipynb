{
 "cells": [
  {
   "cell_type": "code",
   "execution_count": 9,
   "outputs": [],
   "source": [
    "import chess\n",
    "import openai\n",
    "import os\n",
    "from stockfish import Stockfish\n",
    "import time\n",
    "from dotenv import load_dotenv\n",
    "\n",
    "load_dotenv()  # allows access to environment variables in .env file\n",
    "\n",
    "\n",
    "# Initialize Stockfish and OpenAI\n",
    "openai.api_key = os.environ.get('OPENAI_API_KEY')\n",
    "path_to_stockfish = \"stockfish\""
   ],
   "metadata": {
    "collapsed": false,
    "pycharm": {
     "name": "#%%\n"
    }
   }
  },
  {
   "cell_type": "code",
   "execution_count": 10,
   "outputs": [],
   "source": [
    "# Notes\n",
    "# The \"chess\" Python library can check for valid moves and checkmate\n",
    "# The openai library communicates with the Open AI API\n",
    "# The stockfish library provides a Pythonic interface to the\n",
    "# Stockfish chesss engine.\n",
    "\n",
    "# To give GPT the best possible input (with the most training data)\n",
    "# We will give it games in Algebraic notation.\n",
    "# This requires jumping through small extra hoops to parse its response."
   ],
   "metadata": {
    "collapsed": false,
    "pycharm": {
     "name": "#%%\n"
    }
   }
  },
  {
   "cell_type": "code",
   "execution_count": 11,
   "outputs": [],
   "source": [
    "def save_game(file_name, move_history, game_outcome, current_elo):\n",
    "    # Create the directory if it doesn't exist\n",
    "    os.makedirs(os.path.dirname(file_name), exist_ok=True)\n",
    "\n",
    "    with open(file_name, \"w\") as file:\n",
    "        file.write(move_history + \"\\n\")\n",
    "        file.write(\"Outcome: \" + game_outcome + \"\\n\")\n",
    "        file.write(f\"Stockfish ELO: {current_elo}\\n\")"
   ],
   "metadata": {
    "collapsed": false,
    "pycharm": {
     "name": "#%%\n"
    }
   }
  },
  {
   "cell_type": "code",
   "execution_count": 12,
   "outputs": [],
   "source": [
    "def next_white_move(algebraic_notation):\n",
    "    # Check if the first character is a digit (move number)\n",
    "    if algebraic_notation[0].isdigit():\n",
    "        # Split the string into individual parts based on space\n",
    "        moves = algebraic_notation.split(' ')\n",
    "        # Separate move numbers from moves and recombine as a new list\n",
    "        moves_separated = []\n",
    "        for move in moves:\n",
    "            if '.' in move:\n",
    "                move_number, move_san = move.split('.')\n",
    "                moves_separated.append(move_number + '.')\n",
    "                if move_san:  # If there's a move after the '.', append it as a separate item\n",
    "                    moves_separated.append(move_san)\n",
    "            else:\n",
    "                moves_separated.append(move)\n",
    "        # Filter out move numbers and black's moves, keeping only white's moves\n",
    "        white_moves = [move for i, move in enumerate(moves_separated) if not move.endswith('.') and (i - 1) % 2 == 0]\n",
    "        # Return the next move by white\n",
    "        return white_moves[0] if white_moves else None\n",
    "    else:\n",
    "        # The case when the notation doesn't start with a move number\n",
    "        moves = algebraic_notation.split()\n",
    "        # In this case, white's move is always the first one\n",
    "        return moves[0] if moves else None"
   ],
   "metadata": {
    "collapsed": false,
    "pycharm": {
     "name": "#%%\n"
    }
   }
  },
  {
   "cell_type": "code",
   "execution_count": 13,
   "outputs": [],
   "source": [
    "def to_long_algebraic(move_history_san):\n",
    "    long_form_moves = []\n",
    "    for i in range(0, len(move_history_san), 2):\n",
    "        move_number = i // 2 + 1\n",
    "        white_move = move_history_san[i]\n",
    "        if i + 1 < len(move_history_san):\n",
    "            black_move = move_history_san[i + 1]\n",
    "            long_form_moves.append(f\"{move_number}. {white_move} {black_move}\")\n",
    "        else:\n",
    "            long_form_moves.append(f\"{move_number}. {white_move}\")\n",
    "    return \" \".join(long_form_moves)"
   ],
   "metadata": {
    "collapsed": false,
    "pycharm": {
     "name": "#%%\n"
    }
   }
  },
  {
   "cell_type": "code",
   "execution_count": 14,
   "outputs": [],
   "source": [
    "def play_chess(ELO):\n",
    "\n",
    "    # Initialize Stockfish with the given ELO\n",
    "    stockfish = Stockfish(path=path_to_stockfish)\n",
    "    stockfish.update_engine_parameters({\"UCI_Elo\": ELO})\n",
    "\n",
    "    # Initialize the chess board\n",
    "    board = chess.Board()\n",
    "\n",
    "    # Keep track of the move history\n",
    "    move_history_uci = []  # List of moves using Universal Chess Interface Notation ([\"e2e4\",...])\n",
    "    move_history_san = []  # List of moves using Standard Algebraic Notation ([\"e4,...])\n",
    "    move_history_san_str = \"\"  # String with moves in Standard Algebraic Notation (\"1. e4...\")\n",
    "\n",
    "    # Keep track of the invalid moves by GPT\n",
    "    invalid_moves = []\n",
    "\n",
    "    response = openai.ChatCompletion.create(\n",
    "        # model=\"gpt-3.5-turbo\",  # replace with actual GPT-4 model name when available\n",
    "        model=\"gpt-4\",  # replace with actual GPT-4 model name when available\n",
    "        messages=[\n",
    "            {\"role\": \"system\", \"content\": \"You are an expert chess player.\"},\n",
    "            {\"role\": \"user\", \"content\":\n",
    "                \"\"\"Our chess game just started, and you are playing with the white pieces.\n",
    "\n",
    "                What would you like to make your first move? Please reply with algebraic notation only.\n",
    "\n",
    "                Here are examples of responses you could provide:\n",
    "\n",
    "                1. e4\n",
    "                1. d4\n",
    "\n",
    "                Your response:\"\"\"}],\n",
    "        max_tokens=20\n",
    "    )\n",
    "\n",
    "    # Get the move from the response\n",
    "    gpt_first_move = response['choices'][0]['message']['content'].strip()\n",
    "\n",
    "    # The reply includes the full move history, so we need to get the last element\n",
    "    # Here, there is only one move.\n",
    "    first_move_san = next_white_move(gpt_first_move)\n",
    "\n",
    "    # Try to make the move\n",
    "    try:\n",
    "        parsed_move = board.parse_san(first_move_san)\n",
    "        board.push(parsed_move)\n",
    "        uci_move = parsed_move.uci()\n",
    "\n",
    "        # save our versions of move history for Stockfish and the GPT\n",
    "        move_history_uci.append(uci_move)\n",
    "        move_history_san.append(first_move_san)\n",
    "        move_history_san_str = gpt_first_move\n",
    "\n",
    "        stockfish.set_position(move_history_uci)  # Update the Stockfish board\n",
    "\n",
    "    except Exception:\n",
    "        print(f\"GPT suggested an invalid first move: {gpt_first_move}.\")\n",
    "\n",
    "    # While the game isn't over\n",
    "    while not board.is_checkmate() and not board.is_stalemate():\n",
    "        if not board.turn:  # True if it's black's turn\n",
    "            # Get Stockfish's move\n",
    "            result = stockfish.get_best_move()  # Stockfish replies using UCI, (\"c7c5\")\n",
    "\n",
    "            # Convert to alternative notations\n",
    "            move = chess.Move.from_uci(result)  # Move.from_uci('c7c5')\n",
    "            move_san = board.san(move)  # standard algebraic notation: (\"c5\")\n",
    "\n",
    "            # Try to make the move\n",
    "            try:\n",
    "                board.push(move)  # Update the chess board\n",
    "                move_history_uci.append(result)\n",
    "                move_history_san.append(move_san)\n",
    "                move_history_san_str = to_long_algebraic(move_history_san)\n",
    "            except Exception:\n",
    "                print(\"Stockfish suggested an invalid move.\")\n",
    "                break\n",
    "\n",
    "            # Print the game state\n",
    "            print(move_history_san_str)\n",
    "\n",
    "        if not board.is_checkmate() and not board.is_stalemate():\n",
    "            # Calculate the delay based on your rate limit\n",
    "            standard_delay = 8\n",
    "\n",
    "            # Sleep for the delay\n",
    "            time.sleep(standard_delay)    # currently 3 seconds\n",
    "\n",
    "            # Initial delay in seconds before a retry attempt.\n",
    "            initial_retry_delay = 8\n",
    "            max_retry_delay = 60  # You can set a maximum delay limit\n",
    "\n",
    "            current_retry_delay = initial_retry_delay\n",
    "\n",
    "            # Ask GPT-4 for the next move\n",
    "            while True:\n",
    "                try:\n",
    "                    # Ask GPT for the next move\n",
    "                    game_state = move_history_san_str\n",
    "\n",
    "                    # Check if there were any invalid moves\n",
    "                    invalid_moves_string = \"\"\n",
    "                    if invalid_moves:\n",
    "                        invalid_moves_string = \"\\nPlease avoid these invalid moves: \" + ', '.join(invalid_moves)\n",
    "\n",
    "                    response = openai.ChatCompletion.create(\n",
    "                        model=\"gpt-4\",  # replace with actual GPT-4 model name when available\n",
    "                        messages=[\n",
    "                            {\"role\": \"system\", \"content\": \"You are an expert chess player.\"},\n",
    "                            {\"role\": \"user\", \"content\":\n",
    "                                \"\"\"You're playing with the white pieces, and it's your turn.\n",
    "\n",
    "                                Please use Standard Algebraic Notation to reply. Use Standard Algebraic Notation \"+\" and \"#\" for check and checkmate.\n",
    "\n",
    "                                Our game is currently:\"\"\" + game_state + invalid_moves_string + \"\"\"\n",
    "\n",
    "                                Your next move:\"\"\"}\n",
    "                        ],\n",
    "                        max_tokens=400\n",
    "                    )\n",
    "\n",
    "                    # Get the move from the response\n",
    "                    gpt_move = response['choices'][0]['message']['content'].strip()\n",
    "                    gpt_move_san = next_white_move(gpt_move)  # retrieve just the next white move\n",
    "\n",
    "                    parsed_move = board.parse_san(gpt_move_san)\n",
    "                    board.push(parsed_move)\n",
    "                    uci_move = parsed_move.uci()\n",
    "\n",
    "                    # save our versions of move history for Stockfish, chess, and GPT\n",
    "                    move_history_uci.append(uci_move)\n",
    "                    move_history_san.append(gpt_move_san)\n",
    "                    move_history_san_str = to_long_algebraic(move_history_san)\n",
    "\n",
    "                    # Tell stockfish about the latest move\n",
    "                    stockfish.set_position(move_history_uci)  # Update the Stockfish board\n",
    "\n",
    "                    break  # If parsing and applying the move was successful, break the while loop\n",
    "\n",
    "                except ValueError as ve:\n",
    "                    print(\"Error parsing the AI's move. Asking AI for a new move...\")\n",
    "                    print(f\"GPT may have suggested an invalid move: {gpt_move_san}\")\n",
    "                    invalid_moves.append(gpt_move_san)\n",
    "\n",
    "                except openai.error.APIError as e:\n",
    "                    if e.http_status == 502:  # Bad Gateway\n",
    "                        print(f\"Encountered a temporary error. Waiting {current_retry_delay} seconds before retrying...\")\n",
    "                        time.sleep(current_retry_delay)\n",
    "\n",
    "                        # Increase the delay for each subsequent retry attempt\n",
    "                        current_retry_delay *= 2\n",
    "\n",
    "                        # Do not exceed the maximum delay\n",
    "                        if current_retry_delay > max_retry_delay:\n",
    "                            current_retry_delay = max_retry_delay\n",
    "                    else:\n",
    "                        # If it's a different type of ApiError, re-raise it\n",
    "                        raise\n",
    "\n",
    "                except openai.error.RateLimitError as rle:  # Assuming the RateLimitError is in openai.error module\n",
    "                    print(f\"Encountered rate limit error. Waiting {current_retry_delay} seconds before retrying...\")\n",
    "                    time.sleep(current_retry_delay)\n",
    "\n",
    "                    # Increase the delay for each subsequent retry attempt\n",
    "                    current_retry_delay *= 2\n",
    "\n",
    "                    # Do not exceed the maximum delay\n",
    "                    if current_retry_delay > max_retry_delay:\n",
    "                        current_retry_delay = max_retry_delay\n",
    "\n",
    "    # Determine the winner\n",
    "    if board.is_checkmate():\n",
    "        if board.turn:\n",
    "            game_outcome = \"Black (Stockfish) wins!\"\n",
    "        else:\n",
    "            game_outcome = \"White (GPT) wins!\"\n",
    "    elif board.is_stalemate() or board.is_insufficient_material():\n",
    "        game_outcome = \"The game is a draw.\"\n",
    "\n",
    "    # Save the game and outcome to a text file\n",
    "    file_name = os.path.join(\"saved_chess_games\", f\"game_{time.strftime('%Y%m%d_%H%M%S')}.txt\")\n",
    "    save_game(file_name, move_history_san_str, game_outcome, ELO)\n",
    "    return game_outcome"
   ],
   "metadata": {
    "collapsed": false,
    "pycharm": {
     "name": "#%%\n"
    }
   }
  },
  {
   "cell_type": "code",
   "execution_count": 15,
   "outputs": [],
   "source": [
    "def find_gpt_elo():\n",
    "\n",
    "    min_elo = 1000\n",
    "    max_elo = 2200\n",
    "    elo_tolerance = 20  # The ELO difference we'll accept as \"close enough\"\n",
    "\n",
    "    while max_elo - min_elo > elo_tolerance:\n",
    "        current_elo = (min_elo + max_elo) // 2\n",
    "        result = play_chess(current_elo)\n",
    "        print(f\"Result against Stockfish with ELO {current_elo}: {result}\")\n",
    "\n",
    "        if result == \"White (GPT) wins!\":\n",
    "            min_elo = current_elo\n",
    "        else:\n",
    "            max_elo = current_elo\n",
    "\n",
    "    print(f\"GPT's approximate ELO is {current_elo}\")"
   ],
   "metadata": {
    "collapsed": false,
    "pycharm": {
     "name": "#%%\n"
    }
   }
  },
  {
   "cell_type": "code",
   "execution_count": null,
   "outputs": [
    {
     "name": "stdout",
     "output_type": "stream",
     "text": [
      "1. e4 c6\n",
      "1. e4 c6 2. d4 Nf6\n",
      "1. e4 c6 2. d4 Nf6 3. Nc3 g6\n"
     ]
    }
   ],
   "source": [
    "find_gpt_elo()"
   ],
   "metadata": {
    "collapsed": false,
    "pycharm": {
     "name": "#%%\n",
     "is_executing": true
    }
   }
  }
 ],
 "metadata": {
  "kernelspec": {
   "display_name": "Python 3",
   "language": "python",
   "name": "python3"
  },
  "language_info": {
   "codemirror_mode": {
    "name": "ipython",
    "version": 2
   },
   "file_extension": ".py",
   "mimetype": "text/x-python",
   "name": "python",
   "nbconvert_exporter": "python",
   "pygments_lexer": "ipython2",
   "version": "2.7.6"
  }
 },
 "nbformat": 4,
 "nbformat_minor": 0
}